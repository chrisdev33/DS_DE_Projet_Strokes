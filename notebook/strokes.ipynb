{
 "cells": [
  {
   "cell_type": "markdown",
   "id": "4a814be4-806e-462d-9a7a-4afacc23551c",
   "metadata": {
    "id": "4a814be4-806e-462d-9a7a-4afacc23551c"
   },
   "source": [
    "# 1. Préparation des données"
   ]
  },
  {
   "cell_type": "markdown",
   "id": "113f4265-5cc4-46b2-a226-855cf52ecf1c",
   "metadata": {
    "id": "113f4265-5cc4-46b2-a226-855cf52ecf1c"
   },
   "source": [
    "## 1.1 Import des librairies"
   ]
  },
  {
   "cell_type": "code",
   "execution_count": 2,
   "id": "43bdeadf-2fbc-4115-8941-33fbe591cd0b",
   "metadata": {
    "id": "43bdeadf-2fbc-4115-8941-33fbe591cd0b"
   },
   "outputs": [],
   "source": [
    "import pandas as pd\n",
    "import numpy as np\n",
    "import seaborn as sns\n",
    "import matplotlib.pyplot as plt\n",
    "\n",
    "from imblearn.over_sampling import RandomOverSampler\n",
    "from imblearn.under_sampling import RandomUnderSampler\n",
    "\n",
    "from sklearn.linear_model import LogisticRegression, SGDClassifier\n",
    "from sklearn.tree import DecisionTreeClassifier\n",
    "from sklearn.ensemble import RandomForestClassifier, AdaBoostClassifier\n",
    "from sklearn.svm import SVC\n",
    "from sklearn.neighbors import KNeighborsClassifier\n",
    "\n",
    "from sklearn.metrics import f1_score, confusion_matrix, classification_report\n",
    "from sklearn.model_selection import learning_curve\n",
    "from sklearn.feature_selection import SelectKBest, f_classif\n",
    "from sklearn.pipeline import make_pipeline\n",
    "from sklearn.preprocessing import PolynomialFeatures\n",
    "from sklearn.model_selection import GridSearchCV, RandomizedSearchCV\n",
    "from sklearn.impute import SimpleImputer, KNNImputer\n",
    "from sklearn.tree import plot_tree\n",
    "\n",
    "from sklearn.preprocessing import OneHotEncoder, OrdinalEncoder, RobustScaler\n",
    "from sklearn.model_selection import train_test_split\n",
    "\n",
    "import warnings\n",
    "warnings.filterwarnings('ignore')  # \"error\", \"ignore\", \"always\", \"default\", \"module\" or \"once\""
   ]
  },
  {
   "cell_type": "markdown",
   "id": "e69c48ca-1dee-40f8-9915-6afcfee228a8",
   "metadata": {
    "id": "e69c48ca-1dee-40f8-9915-6afcfee228a8",
    "tags": []
   },
   "source": [
    "## 1.2 Chargement du dataset"
   ]
  },
  {
   "cell_type": "code",
   "execution_count": 3,
   "id": "62f64c2e-f6b5-4514-9ab4-9b198f1f9c06",
   "metadata": {
    "id": "62f64c2e-f6b5-4514-9ab4-9b198f1f9c06"
   },
   "outputs": [],
   "source": [
    "# Chargement du dataset\n",
    "data = pd.read_csv('https://assets-datascientest.s3-eu-west-1.amazonaws.com/de/total/strokes.csv', sep=',', header=0)"
   ]
  },
  {
   "cell_type": "code",
   "execution_count": 4,
   "id": "3806b07e-f309-489c-bc6a-c70f854f1c9e",
   "metadata": {
    "colab": {
     "base_uri": "https://localhost:8080/",
     "height": 206
    },
    "id": "3806b07e-f309-489c-bc6a-c70f854f1c9e",
    "outputId": "484a62af-67a4-42f0-aac8-3bde1ad4033d"
   },
   "outputs": [
    {
     "data": {
      "text/html": [
       "<div>\n",
       "<style scoped>\n",
       "    .dataframe tbody tr th:only-of-type {\n",
       "        vertical-align: middle;\n",
       "    }\n",
       "\n",
       "    .dataframe tbody tr th {\n",
       "        vertical-align: top;\n",
       "    }\n",
       "\n",
       "    .dataframe thead th {\n",
       "        text-align: right;\n",
       "    }\n",
       "</style>\n",
       "<table border=\"1\" class=\"dataframe\">\n",
       "  <thead>\n",
       "    <tr style=\"text-align: right;\">\n",
       "      <th></th>\n",
       "      <th>gender</th>\n",
       "      <th>age</th>\n",
       "      <th>ever_married</th>\n",
       "      <th>work_type</th>\n",
       "      <th>residence_type</th>\n",
       "      <th>avg_glucose_level</th>\n",
       "      <th>bmi</th>\n",
       "      <th>smoking_status</th>\n",
       "      <th>stroke</th>\n",
       "      <th>hypertension</th>\n",
       "      <th>heart_disease</th>\n",
       "    </tr>\n",
       "  </thead>\n",
       "  <tbody>\n",
       "    <tr>\n",
       "      <th>0</th>\n",
       "      <td>Male</td>\n",
       "      <td>67.0</td>\n",
       "      <td>Yes</td>\n",
       "      <td>Private</td>\n",
       "      <td>Urban</td>\n",
       "      <td>228.69</td>\n",
       "      <td>36.6</td>\n",
       "      <td>formerly smoked</td>\n",
       "      <td>1</td>\n",
       "      <td>No</td>\n",
       "      <td>Yes</td>\n",
       "    </tr>\n",
       "    <tr>\n",
       "      <th>1</th>\n",
       "      <td>Female</td>\n",
       "      <td>61.0</td>\n",
       "      <td>Yes</td>\n",
       "      <td>Self-employed</td>\n",
       "      <td>Rural</td>\n",
       "      <td>202.21</td>\n",
       "      <td>NaN</td>\n",
       "      <td>never smoked</td>\n",
       "      <td>1</td>\n",
       "      <td>No</td>\n",
       "      <td>No</td>\n",
       "    </tr>\n",
       "    <tr>\n",
       "      <th>2</th>\n",
       "      <td>Male</td>\n",
       "      <td>80.0</td>\n",
       "      <td>Yes</td>\n",
       "      <td>Private</td>\n",
       "      <td>Rural</td>\n",
       "      <td>105.92</td>\n",
       "      <td>32.5</td>\n",
       "      <td>never smoked</td>\n",
       "      <td>1</td>\n",
       "      <td>No</td>\n",
       "      <td>Yes</td>\n",
       "    </tr>\n",
       "    <tr>\n",
       "      <th>3</th>\n",
       "      <td>Female</td>\n",
       "      <td>49.0</td>\n",
       "      <td>Yes</td>\n",
       "      <td>Private</td>\n",
       "      <td>Urban</td>\n",
       "      <td>171.23</td>\n",
       "      <td>34.4</td>\n",
       "      <td>smokes</td>\n",
       "      <td>1</td>\n",
       "      <td>No</td>\n",
       "      <td>No</td>\n",
       "    </tr>\n",
       "    <tr>\n",
       "      <th>4</th>\n",
       "      <td>Female</td>\n",
       "      <td>79.0</td>\n",
       "      <td>Yes</td>\n",
       "      <td>Self-employed</td>\n",
       "      <td>Rural</td>\n",
       "      <td>174.12</td>\n",
       "      <td>24.0</td>\n",
       "      <td>never smoked</td>\n",
       "      <td>1</td>\n",
       "      <td>Yes</td>\n",
       "      <td>No</td>\n",
       "    </tr>\n",
       "  </tbody>\n",
       "</table>\n",
       "</div>"
      ],
      "text/plain": [
       "   gender   age ever_married      work_type residence_type  avg_glucose_level  \\\n",
       "0    Male  67.0          Yes        Private          Urban             228.69   \n",
       "1  Female  61.0          Yes  Self-employed          Rural             202.21   \n",
       "2    Male  80.0          Yes        Private          Rural             105.92   \n",
       "3  Female  49.0          Yes        Private          Urban             171.23   \n",
       "4  Female  79.0          Yes  Self-employed          Rural             174.12   \n",
       "\n",
       "    bmi   smoking_status  stroke hypertension heart_disease  \n",
       "0  36.6  formerly smoked       1           No           Yes  \n",
       "1   NaN     never smoked       1           No            No  \n",
       "2  32.5     never smoked       1           No           Yes  \n",
       "3  34.4           smokes       1           No            No  \n",
       "4  24.0     never smoked       1          Yes            No  "
      ]
     },
     "execution_count": 4,
     "metadata": {},
     "output_type": "execute_result"
    }
   ],
   "source": [
    "# Remplacement des variables binaires\n",
    "df = data.copy()\n",
    "df['hypertension_v2'] = \"N/A\"\n",
    "df.loc[df.hypertension==1, 'hypertension_v2'] = 'Yes'\n",
    "df.loc[df.hypertension==0, 'hypertension_v2'] = 'No'\n",
    "\n",
    "df['heart_disease_v2'] = 'N/A'\n",
    "df.loc[df.heart_disease==1, 'heart_disease_v2'] = 'Yes'\n",
    "df.loc[df.heart_disease==0, 'heart_disease_v2'] = 'No'\n",
    "\n",
    "# df['stroke_v2'] = 'N/A'\n",
    "# df.loc[df.stroke==1, 'stroke_v2'] = 'Malade'\n",
    "# df.loc[df.stroke==0, 'stroke_v2'] = 'Sain'\n",
    "\n",
    "# df = df.drop(['hypertension', 'heart_disease', 'stroke'], axis=1)\n",
    "# df = df.rename(columns={\"hypertension_v2\": \"hypertension\", \"heart_disease_v2\": \"heart_disease\", \"stroke_v2\": \"stroke\", \"Residence_type\": \"residence_type\"})\n",
    "df = df.drop(['hypertension', 'heart_disease'], axis=1)\n",
    "df = df.rename(columns={\"hypertension_v2\": \"hypertension\", \"heart_disease_v2\": \"heart_disease\", \"Residence_type\": \"residence_type\"})\n",
    "\n",
    "# Suppression de la colonne id\n",
    "df = df.drop(['id'], axis=1)\n",
    "\n",
    "df.head()"
   ]
  },
  {
   "cell_type": "code",
   "execution_count": 5,
   "id": "6634c07d-2e6e-45ba-a59b-f6b347c14600",
   "metadata": {
    "id": "6634c07d-2e6e-45ba-a59b-f6b347c14600"
   },
   "outputs": [],
   "source": [
    "# Liste des variables quantitatives et qualitatives\n",
    "cols_quant = ['age', 'avg_glucose_level', 'bmi']\n",
    "cols_qual = ['gender', 'ever_married', 'work_type', 'residence_type', 'smoking_status', 'hypertension', 'heart_disease']"
   ]
  },
  {
   "cell_type": "markdown",
   "id": "94742d66-4eab-4e04-815e-e9fe5c53c645",
   "metadata": {
    "id": "94742d66-4eab-4e04-815e-e9fe5c53c645",
    "tags": []
   },
   "source": [
    "# 2. Exploration des données"
   ]
  },
  {
   "cell_type": "markdown",
   "id": "0f6305aa-6f92-4701-9625-4673a958d673",
   "metadata": {
    "id": "0f6305aa-6f92-4701-9625-4673a958d673",
    "tags": []
   },
   "source": [
    "## 2.1 Analyse de la forme"
   ]
  },
  {
   "cell_type": "code",
   "execution_count": 6,
   "id": "45bd1741-16bf-4570-b7ea-42c078a05267",
   "metadata": {
    "colab": {
     "base_uri": "https://localhost:8080/"
    },
    "id": "45bd1741-16bf-4570-b7ea-42c078a05267",
    "outputId": "ff4608e0-07ac-413d-d32a-5ea5b1599128"
   },
   "outputs": [
    {
     "data": {
      "text/plain": [
       "(5110, 11)"
      ]
     },
     "execution_count": 6,
     "metadata": {},
     "output_type": "execute_result"
    }
   ],
   "source": [
    "# Dimension du dataset\n",
    "df.shape"
   ]
  },
  {
   "cell_type": "code",
   "execution_count": 7,
   "id": "f9f62789-a1d6-411b-8c97-080e0b6aea5d",
   "metadata": {
    "colab": {
     "base_uri": "https://localhost:8080/"
    },
    "id": "f9f62789-a1d6-411b-8c97-080e0b6aea5d",
    "outputId": "f0cf80d2-e7be-4010-aa61-8a2c4140c5bc"
   },
   "outputs": [
    {
     "data": {
      "text/plain": [
       "object     7\n",
       "float64    3\n",
       "int64      1\n",
       "dtype: int64"
      ]
     },
     "execution_count": 7,
     "metadata": {},
     "output_type": "execute_result"
    }
   ],
   "source": [
    "# Liste des types de variables\n",
    "df.dtypes.value_counts()"
   ]
  },
  {
   "cell_type": "code",
   "execution_count": 8,
   "id": "cf4b8322-2782-4f38-8f9d-46248ddcac7b",
   "metadata": {
    "colab": {
     "base_uri": "https://localhost:8080/",
     "height": 265
    },
    "id": "cf4b8322-2782-4f38-8f9d-46248ddcac7b",
    "outputId": "8fe08fab-1c1a-4819-a76e-dd1af0cc4cbd"
   },
   "outputs": [
    {
     "data": {
      "text/plain": [
       "<AxesSubplot:ylabel='None'>"
      ]
     },
     "execution_count": 8,
     "metadata": {},
     "output_type": "execute_result"
    },
    {
     "data": {
      "image/png": "[encoded data removed]",
      "text/plain": [
       "<Figure size 432x288 with 1 Axes>"
      ]
     },
     "metadata": {},
     "output_type": "display_data"
    }
   ],
   "source": [
    "# Répartition des types de variables\n",
    "df.dtypes.value_counts().plot.pie()"
   ]
  },
  {
   "cell_type": "code",
   "execution_count": 9,
   "id": "5f3eb2fb-e64d-4ffc-a23b-9a2faa92513e",
   "metadata": {
    "colab": {
     "base_uri": "https://localhost:8080/"
    },
    "id": "5f3eb2fb-e64d-4ffc-a23b-9a2faa92513e",
    "outputId": "0f66ef00-1101-4b7e-8a14-297287e2e5a7"
   },
   "outputs": [
    {
     "data": {
      "text/plain": [
       "gender                 0\n",
       "age                    0\n",
       "ever_married           0\n",
       "work_type              0\n",
       "residence_type         0\n",
       "avg_glucose_level      0\n",
       "bmi                  201\n",
       "smoking_status         0\n",
       "stroke                 0\n",
       "hypertension           0\n",
       "heart_disease          0\n",
       "dtype: int64"
      ]
     },
     "execution_count": 9,
     "metadata": {},
     "output_type": "execute_result"
    }
   ],
   "source": [
    "# Analyse des NaN\n",
    "df.isna().sum()"
   ]
  },
  {
   "cell_type": "code",
   "execution_count": 10,
   "id": "b7a4bb12-654a-48a6-abd3-3361939aefb3",
   "metadata": {
    "colab": {
     "base_uri": "https://localhost:8080/",
     "height": 585
    },
    "id": "b7a4bb12-654a-48a6-abd3-3361939aefb3",
    "outputId": "f88fd28f-eff6-45c5-f0ef-978043960688"
   },
   "outputs": [
    {
     "data": {
      "text/plain": [
       "<AxesSubplot:>"
      ]
     },
     "execution_count": 10,
     "metadata": {},
     "output_type": "execute_result"
    },
    {
     "data": {
      "image/png": "[encoded data removed]",
      "text/plain": [
       "<Figure size 864x576 with 1 Axes>"
      ]
     },
     "metadata": {
      "needs_background": "light"
     },
     "output_type": "display_data"
    }
   ],
   "source": [
    "# Heatmap des NaN\n",
    "plt.figure(figsize=(12, 8))\n",
    "sns.heatmap(df.isna(), cbar=False)"
   ]
  },
  {
   "cell_type": "markdown",
   "id": "902829d4-0500-4b09-9e0f-ff45150663d3",
   "metadata": {
    "id": "902829d4-0500-4b09-9e0f-ff45150663d3"
   },
   "source": [
    "* __Type__ : Classification\n",
    "* __Identification de la variable target__ : Stroke\n",
    "* __Shape du dataset__ : Lignes : 5110 / Colonnes : 11    \n",
    "* __Types de variables__ :\n",
    "    * Variables continues : age, avg_glucose_level, bmi\n",
    "    * Variables discrètes : gender, ever_married, work_type, Residence_type, smoking_status, hypertension, heart_disease\n",
    "* __Analyse valeurs manquantes__ :\n",
    "    * Seulement des NaN pour la colonne bmi : 201 NaN\n",
    "* __Elimination des colonnes inutiles__ :\n",
    "    * Peu de NaN donc pas de suppression de colonnes liés au volume de NaN\n",
    "    * Colonne id à supprimer"
   ]
  },
  {
   "cell_type": "markdown",
   "id": "5d755f0f-ce5b-4681-acc5-a47b7bb47f59",
   "metadata": {
    "id": "5d755f0f-ce5b-4681-acc5-a47b7bb47f59"
   },
   "source": [
    "## 2.2 Analyse de fond"
   ]
  },
  {
   "cell_type": "markdown",
   "id": "ab8fdabd-924e-439c-92d3-ea0d4da414a1",
   "metadata": {
    "id": "ab8fdabd-924e-439c-92d3-ea0d4da414a1",
    "tags": []
   },
   "source": [
    "### 2.2.1 Analyse de la target"
   ]
  },
  {
   "cell_type": "code",
   "execution_count": 11,
   "id": "3696258e-f440-4663-9caa-ad621e0d90a3",
   "metadata": {
    "colab": {
     "base_uri": "https://localhost:8080/"
    },
    "id": "3696258e-f440-4663-9caa-ad621e0d90a3",
    "outputId": "594e51e7-bc71-429e-dec1-c7c74afc894b"
   },
   "outputs": [
    {
     "name": "stdout",
     "output_type": "stream",
     "text": [
      "\n",
      "---------------\n",
      "0    0.951272\n",
      "1    0.048728\n",
      "Name: stroke, dtype: float64\n",
      "\n",
      "---------------\n",
      "0    4861\n",
      "1     249\n",
      "Name: stroke, dtype: int64\n"
     ]
    }
   ],
   "source": [
    "# Visualisation de la target => Classe désquilibrée\n",
    "print(\"\\n---------------\")\n",
    "print(df['stroke'].value_counts(normalize=True))\n",
    "print(\"\\n---------------\")\n",
    "print(df['stroke'].value_counts())"
   ]
  },
  {
   "cell_type": "markdown",
   "id": "8404dfc4-1bbd-44e7-808f-88f6318c5a56",
   "metadata": {
    "id": "8404dfc4-1bbd-44e7-808f-88f6318c5a56"
   },
   "source": [
    "* 5% des personnes ont déjà eu une attaque\n",
    "* Classes déséquilibrés :\n",
    "  * 4861 n'ont pas eu d'attaques contre 249 ui ont eu une attaque\n",
    "  * Il faudra sans doute utiliser une métrique de type Score F1 ou Recall"
   ]
  },
  {
   "cell_type": "markdown",
   "id": "beca6535-b963-4a4f-839d-1ec13cfa0225",
   "metadata": {
    "id": "beca6535-b963-4a4f-839d-1ec13cfa0225",
    "tags": []
   },
   "source": [
    "### 2.2.2 Analyse des variables continues"
   ]
  },
  {
   "cell_type": "code",
   "execution_count": null,
   "id": "a281a406-5b65-4808-86f6-dc6cb6d2daf5",
   "metadata": {
    "colab": {
     "base_uri": "https://localhost:8080/",
     "height": 300
    },
    "id": "a281a406-5b65-4808-86f6-dc6cb6d2daf5",
    "outputId": "320e13cf-bfe7-42b4-c794-f8f933d2fa4e"
   },
   "outputs": [],
   "source": [
    "df.describe()"
   ]
  },
  {
   "cell_type": "markdown",
   "id": "68181dcb-e1cf-46e7-890f-46d790bbbe94",
   "metadata": {
    "id": "68181dcb-e1cf-46e7-890f-46d790bbbe94"
   },
   "source": [
    "* Variables continues non standardisées\n",
    "* Distribution asymétrique pour les variables avg_glucose_level et bmi"
   ]
  },
  {
   "cell_type": "markdown",
   "id": "940eaa36-fae4-4714-8b62-cafc0785911c",
   "metadata": {
    "id": "940eaa36-fae4-4714-8b62-cafc0785911c",
    "tags": []
   },
   "source": [
    "### 2.2.3 Analyse des variables discrètes"
   ]
  },
  {
   "cell_type": "code",
   "execution_count": 12,
   "id": "b3643887-cc44-4521-b3b4-baeeb9bdb310",
   "metadata": {
    "colab": {
     "base_uri": "https://localhost:8080/"
    },
    "id": "b3643887-cc44-4521-b3b4-baeeb9bdb310",
    "outputId": "2bb491f8-b8df-4acb-871a-f694969fe5d6"
   },
   "outputs": [
    {
     "name": "stdout",
     "output_type": "stream",
     "text": [
      "gender-------------- ['Male' 'Female' 'Other']\n",
      "ever_married-------- ['Yes' 'No']\n",
      "work_type----------- ['Private' 'Self-employed' 'Govt_job' 'children' 'Never_worked']\n",
      "residence_type------ ['Urban' 'Rural']\n",
      "smoking_status------ ['formerly smoked' 'never smoked' 'smokes' 'Unknown']\n",
      "hypertension-------- ['No' 'Yes']\n",
      "heart_disease------- ['Yes' 'No']\n"
     ]
    }
   ],
   "source": [
    "for col in df.select_dtypes('object'):\n",
    "    print(f'{col :-<20} {df[col].unique()}')"
   ]
  },
  {
   "cell_type": "code",
   "execution_count": 13,
   "id": "2cfdba01-0d5a-4f02-91ef-41bd49f38656",
   "metadata": {
    "colab": {
     "base_uri": "https://localhost:8080/",
     "height": 1000
    },
    "id": "2cfdba01-0d5a-4f02-91ef-41bd49f38656",
    "outputId": "c3856f6a-434f-4d37-ff9c-62724ec651bc"
   },
   "outputs": [
    {
     "data": {
      "image/png": "[encoded data removed]",
      "text/plain": [
       "<Figure size 432x288 with 1 Axes>"
      ]
     },
     "metadata": {},
     "output_type": "display_data"
    },
    {
     "data": {
      "image/png": "[encoded data removed]",
      "text/plain": [
       "<Figure size 432x288 with 1 Axes>"
      ]
     },
     "metadata": {},
     "output_type": "display_data"
    },
    {
     "data": {
      "image/png": "[encoded data removed]",
      "text/plain": [
       "<Figure size 432x288 with 1 Axes>"
      ]
     },
     "metadata": {},
     "output_type": "display_data"
    },
    {
     "data": {
      "image/png": "[encoded data removed]",
      "text/plain": [
       "<Figure size 432x288 with 1 Axes>"
      ]
     },
     "metadata": {},
     "output_type": "display_data"
    },
    {
     "data": {
      "image/png": "[encoded data removed]",
      "text/plain": [
       "<Figure size 432x288 with 1 Axes>"
      ]
     },
     "metadata": {},
     "output_type": "display_data"
    },
    {
     "data": {
      "image/png": "[encoded data removed]",
      "text/plain": [
       "<Figure size 432x288 with 1 Axes>"
      ]
     },
     "metadata": {},
     "output_type": "display_data"
    },
    {
     "data": {
      "image/png": "[encoded data removed]",
      "text/plain": [
       "<Figure size 432x288 with 1 Axes>"
      ]
     },
     "metadata": {},
     "output_type": "display_data"
    }
   ],
   "source": [
    "for col in df.select_dtypes('object'):\n",
    "    plt.figure()\n",
    "    df[col].value_counts().plot.pie()"
   ]
  },
  {
   "cell_type": "markdown",
   "id": "1fbcf731-87db-4d51-af85-97cdccd771fe",
   "metadata": {
    "id": "1fbcf731-87db-4d51-af85-97cdccd771fe"
   },
   "source": [
    "* Variable __\"gender\"__ : Female : 2994 / Male : 2115 / Other : 1\n",
    "* Variable __\"ever_married\"__ : Yes : 3353 / No : 1757\n",
    "* Variable __\"work_type\"__ : Private : 2925 / Self-employed : 819 / children : 687 / Govt_job : 657 / Never_worked : 22\n",
    "* Variable __\"Residence_type\"__ : Urban : 2596 / Rural : 2514\n",
    "* Variable __\"smoking_status\"__ : never smoked : 1892 / Unknown : 1544 / formerly smoked : 885 / smokes : 789"
   ]
  },
  {
   "cell_type": "markdown",
   "id": "71ff5e21-a293-4971-9523-aa93096f7e16",
   "metadata": {
    "id": "71ff5e21-a293-4971-9523-aa93096f7e16",
    "tags": []
   },
   "source": [
    "### 2.2.4 Visualisation des relations variables continues et target"
   ]
  },
  {
   "cell_type": "code",
   "execution_count": 14,
   "id": "Uc8hNkd0niwM",
   "metadata": {
    "colab": {
     "base_uri": "https://localhost:8080/",
     "height": 804
    },
    "id": "Uc8hNkd0niwM",
    "outputId": "39ebbda8-f27c-4f55-8f25-ebc997672123"
   },
   "outputs": [
    {
     "data": {
      "image/png": "[encoded data removed]",
      "text/plain": [
       "<Figure size 432x288 with 1 Axes>"
      ]
     },
     "metadata": {
      "needs_background": "light"
     },
     "output_type": "display_data"
    },
    {
     "data": {
      "image/png": "[encoded data removed]",
      "text/plain": [
       "<Figure size 432x288 with 1 Axes>"
      ]
     },
     "metadata": {
      "needs_background": "light"
     },
     "output_type": "display_data"
    },
    {
     "data": {
      "image/png": "[encoded data removed]",
      "text/plain": [
       "<Figure size 432x288 with 1 Axes>"
      ]
     },
     "metadata": {
      "needs_background": "light"
     },
     "output_type": "display_data"
    }
   ],
   "source": [
    "# Distribution\n",
    "for col in cols_quant:\n",
    "  sns.histplot(df.loc[df.stroke == 1][col], color=\"blue\", label=\"Malades\", kde=True, stat=\"density\", linewidth=0)\n",
    "  sns.histplot(df.loc[df.stroke == 0][col], color=\"red\", label=\"Sains\", kde=True, stat=\"density\", linewidth=0)\n",
    "  plt.legend()\n",
    "  plt.show()"
   ]
  },
  {
   "cell_type": "code",
   "execution_count": 15,
   "id": "e96773a3-edf1-42c5-9759-15a2c068727c",
   "metadata": {
    "colab": {
     "base_uri": "https://localhost:8080/",
     "height": 287
    },
    "id": "e96773a3-edf1-42c5-9759-15a2c068727c",
    "outputId": "c6565456-523e-4af3-ca22-3781013d8235"
   },
   "outputs": [
    {
     "data": {
      "text/plain": [
       "<AxesSubplot:>"
      ]
     },
     "execution_count": 15,
     "metadata": {},
     "output_type": "execute_result"
    },
    {
     "data": {
      "image/png": "[encoded data removed]",
      "text/plain": [
       "<Figure size 432x288 with 2 Axes>"
      ]
     },
     "metadata": {
      "needs_background": "light"
     },
     "output_type": "display_data"
    }
   ],
   "source": [
    "# Matrice de corrélation\n",
    "sns.heatmap(df.corr())"
   ]
  },
  {
   "cell_type": "markdown",
   "id": "38430b3c-b9fe-44e2-b7e1-898043e1ed6e",
   "metadata": {
    "id": "38430b3c-b9fe-44e2-b7e1-898043e1ed6e"
   },
   "source": [
    "* __Relation stroke-age__ : \n",
    "    * Il semble y avoir une corrélation entre risque d'attaque et âge    \n",
    "* __Relation stroke-avg_glucose_level__ :\n",
    "    * Il semble y avoir une faible corrélation entre risque d'attaque et le taux moyen de sucre\n",
    "* __Relation stroke-bmi__ :\n",
    "    * Il semble ne pas y avoir de corrélation entre risque d'attaque et IMC "
   ]
  },
  {
   "cell_type": "markdown",
   "id": "f39b0945-5e05-48c7-9c27-af453de327b4",
   "metadata": {
    "id": "f39b0945-5e05-48c7-9c27-af453de327b4",
    "tags": []
   },
   "source": [
    "### 2.2.5 Visualisation des relations variables discrètes et target"
   ]
  },
  {
   "cell_type": "code",
   "execution_count": 16,
   "id": "1c9a415c-771d-45df-8403-74d6a8227ecf",
   "metadata": {
    "colab": {
     "base_uri": "https://localhost:8080/",
     "height": 143
    },
    "id": "1c9a415c-771d-45df-8403-74d6a8227ecf",
    "outputId": "6b71f03c-4ca1-4ef6-a8c8-c9b271ea00a9"
   },
   "outputs": [
    {
     "data": {
      "text/html": [
       "<div>\n",
       "<style scoped>\n",
       "    .dataframe tbody tr th:only-of-type {\n",
       "        vertical-align: middle;\n",
       "    }\n",
       "\n",
       "    .dataframe tbody tr th {\n",
       "        vertical-align: top;\n",
       "    }\n",
       "\n",
       "    .dataframe thead th {\n",
       "        text-align: right;\n",
       "    }\n",
       "</style>\n",
       "<table border=\"1\" class=\"dataframe\">\n",
       "  <thead>\n",
       "    <tr style=\"text-align: right;\">\n",
       "      <th>ever_married</th>\n",
       "      <th>No</th>\n",
       "      <th>Yes</th>\n",
       "    </tr>\n",
       "    <tr>\n",
       "      <th>stroke</th>\n",
       "      <th></th>\n",
       "      <th></th>\n",
       "    </tr>\n",
       "  </thead>\n",
       "  <tbody>\n",
       "    <tr>\n",
       "      <th>0</th>\n",
       "      <td>1728</td>\n",
       "      <td>3133</td>\n",
       "    </tr>\n",
       "    <tr>\n",
       "      <th>1</th>\n",
       "      <td>29</td>\n",
       "      <td>220</td>\n",
       "    </tr>\n",
       "  </tbody>\n",
       "</table>\n",
       "</div>"
      ],
      "text/plain": [
       "ever_married    No   Yes\n",
       "stroke                  \n",
       "0             1728  3133\n",
       "1               29   220"
      ]
     },
     "execution_count": 16,
     "metadata": {},
     "output_type": "execute_result"
    }
   ],
   "source": [
    "pd.crosstab(df['stroke'], df['ever_married'])"
   ]
  },
  {
   "cell_type": "code",
   "execution_count": 17,
   "id": "c70635a0-f924-4fbd-a9a6-22bd93851a95",
   "metadata": {
    "colab": {
     "base_uri": "https://localhost:8080/",
     "height": 1000
    },
    "id": "c70635a0-f924-4fbd-a9a6-22bd93851a95",
    "outputId": "5480c542-0117-4fde-eeff-a50431d8a3cb"
   },
   "outputs": [
    {
     "name": "stdout",
     "output_type": "stream",
     "text": [
      "\n",
      "### gender ###\n",
      "\n"
     ]
    },
    {
     "data": {
      "image/png": "[encoded data removed]",
      "text/plain": [
       "<Figure size 432x288 with 1 Axes>"
      ]
     },
     "metadata": {
      "needs_background": "light"
     },
     "output_type": "display_data"
    },
    {
     "name": "stdout",
     "output_type": "stream",
     "text": [
      "\n",
      "### ever_married ###\n",
      "\n"
     ]
    },
    {
     "data": {
      "image/png": "[encoded data removed]",
      "text/plain": [
       "<Figure size 432x288 with 1 Axes>"
      ]
     },
     "metadata": {
      "needs_background": "light"
     },
     "output_type": "display_data"
    },
    {
     "name": "stdout",
     "output_type": "stream",
     "text": [
      "\n",
      "### work_type ###\n",
      "\n"
     ]
    },
    {
     "data": {
      "image/png": "[encoded data removed]",
      "text/plain": [
       "<Figure size 432x288 with 1 Axes>"
      ]
     },
     "metadata": {
      "needs_background": "light"
     },
     "output_type": "display_data"
    },
    {
     "name": "stdout",
     "output_type": "stream",
     "text": [
      "\n",
      "### residence_type ###\n",
      "\n"
     ]
    },
    {
     "data": {
      "image/png": "[encoded data removed]",
      "text/plain": [
       "<Figure size 432x288 with 1 Axes>"
      ]
     },
     "metadata": {
      "needs_background": "light"
     },
     "output_type": "display_data"
    },
    {
     "name": "stdout",
     "output_type": "stream",
     "text": [
      "\n",
      "### smoking_status ###\n",
      "\n"
     ]
    },
    {
     "data": {
      "image/png": "[encoded data removed]",
      "text/plain": [
       "<Figure size 432x288 with 1 Axes>"
      ]
     },
     "metadata": {
      "needs_background": "light"
     },
     "output_type": "display_data"
    },
    {
     "name": "stdout",
     "output_type": "stream",
     "text": [
      "\n",
      "### hypertension ###\n",
      "\n"
     ]
    },
    {
     "data": {
      "image/png": "[encoded data removed]",
      "text/plain": [
       "<Figure size 432x288 with 1 Axes>"
      ]
     },
     "metadata": {
      "needs_background": "light"
     },
     "output_type": "display_data"
    },
    {
     "name": "stdout",
     "output_type": "stream",
     "text": [
      "\n",
      "### heart_disease ###\n",
      "\n"
     ]
    },
    {
     "data": {
      "image/png": "[encoded data removed]",
      "text/plain": [
       "<Figure size 432x288 with 1 Axes>"
      ]
     },
     "metadata": {
      "needs_background": "light"
     },
     "output_type": "display_data"
    }
   ],
   "source": [
    "# On ré-équilibre les classes pour que les histogrammes soient plus parlants\n",
    "df_balanced = pd.concat([df[df.stroke == 0].sample(df[df.stroke == 1].shape[0]), df[df.stroke == 1]], axis=0)\n",
    "\n",
    "for col in cols_qual:  \n",
    "  print(\"\\n###\", col, \"###\\n\")\n",
    "  sns.countplot(x=col, hue='stroke', data=df_balanced)\n",
    "  plt.legend(labels=['Sains', 'Malades'])\n",
    "  plt.show()"
   ]
  },
  {
   "cell_type": "markdown",
   "id": "5e7cc0a9-147d-438c-9144-4f937ab28f97",
   "metadata": {
    "id": "5e7cc0a9-147d-438c-9144-4f937ab28f97"
   },
   "source": [
    "* __Relation stroke/gender__ :\n",
    "    * Il ne semble pas y avoir de corrélation entre risque d'attaque et genre\n",
    "* __Relation stroke/hypertension__ :\n",
    "    * Il semble y avoir une corrélation entre risque d'attaque et hypertension\n",
    "        * Les personnes ayant de l'hypertension ont un risque plus important d'avoir une attaque\n",
    "* __Relation stroke/heart_disease__ : \n",
    "    * Il semble y avoir une corrélation entre risque d'attaque et maladies cardiaques\n",
    "        * Les personnes ayant une maladie cardiaque ont un risque plus important d'avoir une attaque\n",
    "* __Relation stroke/ever_married__ :\n",
    "    * Il semble y avoir une corrélation entre risque d'attaque et le fait d'être marié ou non\n",
    "        * Les personnes mariées ont un risque plus important d'avoir une attaque\n",
    "* __Relation stroke/work_type__ :\n",
    "    * Il semble y avoir une faible corrélation entre risque d'attaque et le type de travail\n",
    "        * Les entrepreneurs ont un risque plus important d'avoir une attaque\n",
    "* __Relation stroke/residence_type__ :\n",
    "    * Pas de corrélation entre risque d'attaque et le fait d'habiter en ville ou à la campagne\n",
    "* __Relation stroke/smoking_status__ :\n",
    "    * Il semble y avoir une corrélation entre risque d'attaque et le statut de fumeur\n",
    "        * Les anciens fumeurs ont un risque plus important d'avoir une attaque"
   ]
  },
  {
   "cell_type": "markdown",
   "id": "72e3254a-1dac-46db-99e1-58f71baadb97",
   "metadata": {
    "id": "72e3254a-1dac-46db-99e1-58f71baadb97"
   },
   "source": [
    "# 3. Pre-processing"
   ]
  },
  {
   "cell_type": "code",
   "execution_count": 18,
   "id": "16b54412-7434-4bdc-a907-83b8357fecd7",
   "metadata": {
    "id": "16b54412-7434-4bdc-a907-83b8357fecd7"
   },
   "outputs": [],
   "source": [
    "all_features = ['age', 'avg_glucose_level', 'bmi', 'gender', 'ever_married', 'work_type', 'residence_type', 'smoking_status', 'hypertension', 'heart_disease']\n",
    "quantitative_features = ['age', 'avg_glucose_level', 'bmi']\n",
    "qualitative_features = ['gender', 'ever_married', 'work_type', 'residence_type', 'smoking_status', 'hypertension', 'heart_disease']\n",
    "target = ['stroke']"
   ]
  },
  {
   "cell_type": "code",
   "execution_count": 19,
   "id": "719cb374-2868-421b-97d9-4b7e2dbc7d10",
   "metadata": {
    "id": "719cb374-2868-421b-97d9-4b7e2dbc7d10"
   },
   "outputs": [],
   "source": [
    "def loading(file):\n",
    "    data = pd.read_csv(file, sep=',', header=0)\n",
    "    df = data.copy()    \n",
    "    df = df.rename(columns={\"Residence_type\": \"residence_type\"})    \n",
    "    df = df.drop(['id'], axis=1)\n",
    "    return(df)"
   ]
  },
  {
   "cell_type": "code",
   "execution_count": 20,
   "id": "f918cbd3-e474-4c7a-ae37-254740babdad",
   "metadata": {
    "id": "f918cbd3-e474-4c7a-ae37-254740babdad"
   },
   "outputs": [],
   "source": [
    "def encoding(df, var_qual):\n",
    "    gender_code = {'Other': 0, 'Male': 1, 'Female': 2}\n",
    "    ever_married_code = {'No': 0, 'Yes': 1}\n",
    "    work_type_code = {'Private': 0, 'Self-employed': 1, 'children': 2, 'Govt_job': 3, 'Never_worked': 4}\n",
    "    residence_type_code = {'Urban': 0, 'Rural': 1}\n",
    "    smoking_status_code = {'never smoked': 0, 'Unknown': 1, 'formerly smoked': 2, 'smokes': 3}\n",
    "    \n",
    "    df.loc[:, 'gender'] = df['gender'].map(gender_code)        \n",
    "    df.loc[:, 'ever_married'] = df['ever_married'].map(ever_married_code)        \n",
    "    df.loc[:, 'work_type'] = df['work_type'].map(work_type_code)        \n",
    "    df.loc[:, 'residence_type'] = df['residence_type'].map(residence_type_code)        \n",
    "    df.loc[:, 'smoking_status'] = df['smoking_status'].map(smoking_status_code)    \n",
    "    return df.loc[:, var_qual]"
   ]
  },
  {
   "cell_type": "code",
   "execution_count": 21,
   "id": "df6b3573-50b0-486a-bbd7-4a35b55cde24",
   "metadata": {
    "id": "df6b3573-50b0-486a-bbd7-4a35b55cde24"
   },
   "outputs": [],
   "source": [
    "def scaling(df, var_quant):\n",
    "    scaler = RobustScaler()    \n",
    "    return pd.DataFrame(data=scaler.fit_transform(df[quantitative_features]), \n",
    "                        columns=quantitative_features)"
   ]
  },
  {
   "cell_type": "code",
   "execution_count": 22,
   "id": "358a35c4-9323-49f1-b9b6-9923853b5700",
   "metadata": {
    "id": "358a35c4-9323-49f1-b9b6-9923853b5700"
   },
   "outputs": [],
   "source": [
    "def imputation(df):    \n",
    "    # df = df.dropna(axis=0)\n",
    "    # df.drop(['gender', 'ever_married', 'work_type', 'residence_type', 'hypertension', 'heart_disease'], axis=1, inplace=True)\n",
    "    df.bmi.fillna(df.bmi.mean(), inplace=True)    \n",
    "    return df"
   ]
  },
  {
   "cell_type": "code",
   "execution_count": 23,
   "id": "1321e40f-05bd-48e4-b35d-67ecfabacb1f",
   "metadata": {
    "id": "1321e40f-05bd-48e4-b35d-67ecfabacb1f"
   },
   "outputs": [],
   "source": [
    "# On définit une pipeline de preprocessing\n",
    "def preprocessing(var_quant, var_qual, var_target, sampling=False):        \n",
    "    # df = loading('data/strokes.csv')\n",
    "    df = loading('https://assets-datascientest.s3-eu-west-1.amazonaws.com/de/total/strokes.csv')    \n",
    "    # df = imputation(df)\n",
    "    df_quant = scaling(df, var_quant)\n",
    "    df_qual = encoding(df, var_qual)\n",
    "    \n",
    "    X = pd.concat([df_quant, df_qual], axis=1)\n",
    "    y = df.loc[:, 'stroke']            \n",
    "    \n",
    "    X_train, X_test, y_train, y_test = train_test_split(X, y, test_size=0.2, random_state=0)\n",
    "\n",
    "    # Sur-échantillonnage Target\n",
    "    # Cela est fait seulement sur la partie train du dataset, effectivement, effectuer un resampling sur les données de test fausse les résultats\n",
    "    # Cloner les samples avant découpe train / test, va inévitablement provoquer la présence de samples du test dans le train et donc un leak\n",
    "    if sampling:        \n",
    "        rOs = RandomOverSampler()\n",
    "        X_train, y_train = rOs.fit_resample(X_train, y_train)\n",
    "            \n",
    "    return X_train, X_test, y_train, y_test"
   ]
  },
  {
   "cell_type": "code",
   "execution_count": 24,
   "id": "bec3b110-29f5-47b5-baa5-51e15f7650b3",
   "metadata": {
    "id": "bec3b110-29f5-47b5-baa5-51e15f7650b3"
   },
   "outputs": [],
   "source": [
    "X_train, X_test, y_train, y_test = preprocessing(quantitative_features, qualitative_features, target, False)"
   ]
  },
  {
   "cell_type": "code",
   "execution_count": 25,
   "id": "fe6889e7-0fe9-43e2-9ca0-6131488b887f",
   "metadata": {
    "colab": {
     "base_uri": "https://localhost:8080/"
    },
    "id": "fe6889e7-0fe9-43e2-9ca0-6131488b887f",
    "outputId": "353f3786-f502-4612-dd80-595b76bf9562"
   },
   "outputs": [
    {
     "name": "stdout",
     "output_type": "stream",
     "text": [
      "\n",
      "--------------\n",
      "X_train : (4088, 10) / y_train : (4088,)\n",
      "\n",
      "--------------\n",
      "\n",
      "X_test : (1022, 10) / y_test : (1022,)\n",
      "\n",
      "--------------\n",
      "y_train :\n",
      "0    3893\n",
      "1     195\n",
      "Name: stroke, dtype: int64\n",
      "\n",
      "--------------\n",
      "y_test :\n",
      "0    968\n",
      "1     54\n",
      "Name: stroke, dtype: int64\n"
     ]
    }
   ],
   "source": [
    "print(\"\\n--------------\")\n",
    "print(\"X_train :\", X_train.shape, \"/ y_train :\", y_train.shape)\n",
    "\n",
    "print(\"\\n--------------\")\n",
    "print(\"\\nX_test :\", X_test.shape, \"/ y_test :\", y_test.shape)\n",
    "\n",
    "print(\"\\n--------------\")\n",
    "print(\"y_train :\")\n",
    "print(y_train.value_counts())\n",
    "\n",
    "print(\"\\n--------------\")\n",
    "print(\"y_test :\")\n",
    "print(y_test.value_counts())"
   ]
  },
  {
   "cell_type": "markdown",
   "id": "879f4c0b-e83e-4af5-8f07-4d3fadc083c8",
   "metadata": {
    "id": "879f4c0b-e83e-4af5-8f07-4d3fadc083c8",
    "tags": []
   },
   "source": [
    "# 4. Modélisation"
   ]
  },
  {
   "cell_type": "markdown",
   "id": "f88e6b5e-e194-4d2c-a64f-74133aaf80ff",
   "metadata": {
    "id": "f88e6b5e-e194-4d2c-a64f-74133aaf80ff"
   },
   "source": [
    "## 4.1 Evaluation sans rééquilabrage de la target"
   ]
  },
  {
   "cell_type": "markdown",
   "id": "_0c4TDHBIE9u",
   "metadata": {
    "id": "_0c4TDHBIE9u"
   },
   "source": [
    "### 4.1.1 Définition des méthodes d'évaluation"
   ]
  },
  {
   "cell_type": "code",
   "execution_count": 30,
   "id": "dce27404-391a-4bd6-87f3-1014a847663c",
   "metadata": {
    "id": "dce27404-391a-4bd6-87f3-1014a847663c"
   },
   "outputs": [],
   "source": [
    "# Evaluation du modèle\n",
    "def evaluation(model, X_train, y_train, X_test, y_test):\n",
    "    print(X_train.head())\n",
    "    print(y_train.head())\n",
    "    print(X_test.head())\n",
    "    print(y_test.head())\n",
    "        \n",
    "    model.fit(X_train, y_train)\n",
    "    y_pred = model.predict(X_test)\n",
    "    \n",
    "    print(\"\\n---------------------------------\")\n",
    "    print(\"Confusion matrix :\")\n",
    "    print(confusion_matrix(y_test, y_pred))\n",
    "    \n",
    "    print(\"\\n---------------------------------\")\n",
    "    print(\"Classification report :\")\n",
    "    print(classification_report(y_test, y_pred))\n",
    "    \n",
    "    N, train_score, val_score = learning_curve(\n",
    "        model, X_train, y_train, cv=5, scoring='f1',\n",
    "        train_sizes=np.linspace(0.1, 1, 10))\n",
    "    \n",
    "    plt.figure(figsize=(15, 8))\n",
    "    plt.plot(N, train_score.mean(axis=1), label='train score')\n",
    "    plt.plot(N, val_score.mean(axis=1), label='validation score')\n",
    "    plt.legend()\n",
    "    plt.show()  "
   ]
  },
  {
   "cell_type": "code",
   "execution_count": 31,
   "id": "136ac425-b8aa-46e9-bde5-7c2f20f944e0",
   "metadata": {
    "id": "136ac425-b8aa-46e9-bde5-7c2f20f944e0"
   },
   "outputs": [],
   "source": [
    "# Optimisation des paramètres\n",
    "def best_params(model, X_train, y_train):\n",
    "    params = {'selectkbest__k': range(1, 11)}\n",
    "    grid = GridSearchCV(model, params, scoring='f1', cv=5)\n",
    "    grid.fit(X_train, y_train)\n",
    "    print(\"\\n\", grid.best_params_)"
   ]
  },
  {
   "cell_type": "markdown",
   "id": "7d2e4ba3-df63-4410-8b13-0073aa94c1c0",
   "metadata": {
    "id": "7d2e4ba3-df63-4410-8b13-0073aa94c1c0"
   },
   "source": [
    "### 4.1.2 Choix du modèle de classification"
   ]
  },
  {
   "cell_type": "code",
   "execution_count": 32,
   "id": "2ec7fd0b-35d3-437b-a1d1-a4a4e1b1f7fa",
   "metadata": {
    "id": "2ec7fd0b-35d3-437b-a1d1-a4a4e1b1f7fa"
   },
   "outputs": [],
   "source": [
    "# On a fait le choix de sélectionner 3 modèles qui nous semblent les plus\n",
    "# adaptés\n",
    "def best_classifier(X_train, y_train, X_test, y_test, strategy):\n",
    "    logistic_regression = \\\n",
    "        make_pipeline(SimpleImputer(missing_values=np.nan, strategy=strategy),\n",
    "                                    SelectKBest(f_classif, k=10),\n",
    "                                    LogisticRegression(random_state=0))\n",
    "    \n",
    "    decision_tree = \\\n",
    "        make_pipeline(SimpleImputer(missing_values=np.nan, strategy=strategy),\n",
    "                      SelectKBest(f_classif, k=10),\n",
    "                      DecisionTreeClassifier(random_state=0))\n",
    "    \n",
    "    knn = \\\n",
    "        make_pipeline(SimpleImputer(missing_values=np.nan, strategy=strategy),\n",
    "                      SelectKBest(f_classif, k=10),\n",
    "                      KNeighborsClassifier(n_neighbors=5))\n",
    "\n",
    "    dict_models = {'LogisticRegression': logistic_regression,\n",
    "                   'DecisionTree' : decision_tree,\n",
    "                   'KNeighbors': knn}\n",
    "\n",
    "    for name, model in dict_models.items():\n",
    "        print(\"\\n############################################################\")\n",
    "        print(\"Modèle :\", name)\n",
    "        \n",
    "        # Evaluation du modèle\n",
    "        evaluation(model, X_train, y_train, X_test, y_test)\n",
    "        \n",
    "        # Optimisation des paramètres\n",
    "        best_params(model, X_train, y_train)"
   ]
  },
  {
   "cell_type": "code",
   "execution_count": 33,
   "id": "dc7cc5a8-837b-4c1e-aa23-3219f6ec3eb7",
   "metadata": {
    "colab": {
     "base_uri": "https://localhost:8080/",
     "height": 1000
    },
    "id": "dc7cc5a8-837b-4c1e-aa23-3219f6ec3eb7",
    "outputId": "29cb566e-8116-4cfd-d5a6-ed4750756900"
   },
   "outputs": [
    {
     "name": "stdout",
     "output_type": "stream",
     "text": [
      "\n",
      "############################################################\n",
      "Modèle : LogisticRegression\n",
      "           age  avg_glucose_level       bmi  gender  ever_married  work_type  \\\n",
      "3029 -0.250000          -0.667526  0.895833       2             1          0   \n",
      "2277 -0.305556          -0.226761  2.125000       2             1          0   \n",
      "3002  0.416667          -0.725336  0.281250       1             1          0   \n",
      "246   0.833333          -0.355136  0.125000       2             1          1   \n",
      "2825  0.861111          -0.902022 -0.260417       1             1          0   \n",
      "\n",
      "      residence_type  smoking_status  hypertension  heart_disease  \n",
      "3029               1               2             0              0  \n",
      "2277               1               2             0              0  \n",
      "3002               1               0             0              0  \n",
      "246                1               2             0              0  \n",
      "2825               0               3             0              0  \n",
      "3029    0\n",
      "2277    0\n",
      "3002    0\n",
      "246     1\n",
      "2825    0\n",
      "Name: stroke, dtype: int64\n",
      "           age  avg_glucose_level       bmi  gender  ever_married  work_type  \\\n",
      "42    1.027778           1.438866 -0.177083       1             1          0   \n",
      "380  -1.138889           0.389062 -1.187500       1             0          2   \n",
      "3524  0.361111          -0.323925 -0.229167       1             1          0   \n",
      "352  -0.694444           0.127154  0.625000       2             0          0   \n",
      "4927 -0.972222          -0.598317 -1.500000       2             0          2   \n",
      "\n",
      "      residence_type  smoking_status  hypertension  heart_disease  \n",
      "42                 0               3             0              1  \n",
      "380                1               1             0              0  \n",
      "3524               0               0             0              0  \n",
      "352                1               0             0              0  \n",
      "4927               1               1             0              0  \n",
      "42      1\n",
      "380     0\n",
      "3524    0\n",
      "352     0\n",
      "4927    0\n",
      "Name: stroke, dtype: int64\n",
      "\n",
      "---------------------------------\n",
      "Confusion matrix :\n",
      "[[968   0]\n",
      " [ 54   0]]\n",
      "\n",
      "---------------------------------\n",
      "Classification report :\n",
      "              precision    recall  f1-score   support\n",
      "\n",
      "           0       0.95      1.00      0.97       968\n",
      "           1       0.00      0.00      0.00        54\n",
      "\n",
      "    accuracy                           0.95      1022\n",
      "   macro avg       0.47      0.50      0.49      1022\n",
      "weighted avg       0.90      0.95      0.92      1022\n",
      "\n"
     ]
    },
    {
     "data": {
      "image/png": "[encoded data removed]",
      "text/plain": [
       "<Figure size 1080x576 with 1 Axes>"
      ]
     },
     "metadata": {
      "needs_background": "light"
     },
     "output_type": "display_data"
    },
    {
     "name": "stdout",
     "output_type": "stream",
     "text": [
      "\n",
      " {'selectkbest__k': 1}\n",
      "\n",
      "############################################################\n",
      "Modèle : DecisionTree\n",
      "           age  avg_glucose_level       bmi  gender  ever_married  work_type  \\\n",
      "3029 -0.250000          -0.667526  0.895833       2             1          0   \n",
      "2277 -0.305556          -0.226761  2.125000       2             1          0   \n",
      "3002  0.416667          -0.725336  0.281250       1             1          0   \n",
      "246   0.833333          -0.355136  0.125000       2             1          1   \n",
      "2825  0.861111          -0.902022 -0.260417       1             1          0   \n",
      "\n",
      "      residence_type  smoking_status  hypertension  heart_disease  \n",
      "3029               1               2             0              0  \n",
      "2277               1               2             0              0  \n",
      "3002               1               0             0              0  \n",
      "246                1               2             0              0  \n",
      "2825               0               3             0              0  \n",
      "3029    0\n",
      "2277    0\n",
      "3002    0\n",
      "246     1\n",
      "2825    0\n",
      "Name: stroke, dtype: int64\n",
      "           age  avg_glucose_level       bmi  gender  ever_married  work_type  \\\n",
      "42    1.027778           1.438866 -0.177083       1             1          0   \n",
      "380  -1.138889           0.389062 -1.187500       1             0          2   \n",
      "3524  0.361111          -0.323925 -0.229167       1             1          0   \n",
      "352  -0.694444           0.127154  0.625000       2             0          0   \n",
      "4927 -0.972222          -0.598317 -1.500000       2             0          2   \n",
      "\n",
      "      residence_type  smoking_status  hypertension  heart_disease  \n",
      "42                 0               3             0              1  \n",
      "380                1               1             0              0  \n",
      "3524               0               0             0              0  \n",
      "352                1               0             0              0  \n",
      "4927               1               1             0              0  \n",
      "42      1\n",
      "380     0\n",
      "3524    0\n",
      "352     0\n",
      "4927    0\n",
      "Name: stroke, dtype: int64\n",
      "\n",
      "---------------------------------\n",
      "Confusion matrix :\n",
      "[[926  42]\n",
      " [ 46   8]]\n",
      "\n",
      "---------------------------------\n",
      "Classification report :\n",
      "              precision    recall  f1-score   support\n",
      "\n",
      "           0       0.95      0.96      0.95       968\n",
      "           1       0.16      0.15      0.15        54\n",
      "\n",
      "    accuracy                           0.91      1022\n",
      "   macro avg       0.56      0.55      0.55      1022\n",
      "weighted avg       0.91      0.91      0.91      1022\n",
      "\n"
     ]
    },
    {
     "data": {
      "image/png": "[encoded data removed]",
      "text/plain": [
       "<Figure size 1080x576 with 1 Axes>"
      ]
     },
     "metadata": {
      "needs_background": "light"
     },
     "output_type": "display_data"
    },
    {
     "name": "stdout",
     "output_type": "stream",
     "text": [
      "\n",
      " {'selectkbest__k': 10}\n",
      "\n",
      "############################################################\n",
      "Modèle : KNeighbors\n",
      "           age  avg_glucose_level       bmi  gender  ever_married  work_type  \\\n",
      "3029 -0.250000          -0.667526  0.895833       2             1          0   \n",
      "2277 -0.305556          -0.226761  2.125000       2             1          0   \n",
      "3002  0.416667          -0.725336  0.281250       1             1          0   \n",
      "246   0.833333          -0.355136  0.125000       2             1          1   \n",
      "2825  0.861111          -0.902022 -0.260417       1             1          0   \n",
      "\n",
      "      residence_type  smoking_status  hypertension  heart_disease  \n",
      "3029               1               2             0              0  \n",
      "2277               1               2             0              0  \n",
      "3002               1               0             0              0  \n",
      "246                1               2             0              0  \n",
      "2825               0               3             0              0  \n",
      "3029    0\n",
      "2277    0\n",
      "3002    0\n",
      "246     1\n",
      "2825    0\n",
      "Name: stroke, dtype: int64\n",
      "           age  avg_glucose_level       bmi  gender  ever_married  work_type  \\\n",
      "42    1.027778           1.438866 -0.177083       1             1          0   \n",
      "380  -1.138889           0.389062 -1.187500       1             0          2   \n",
      "3524  0.361111          -0.323925 -0.229167       1             1          0   \n",
      "352  -0.694444           0.127154  0.625000       2             0          0   \n",
      "4927 -0.972222          -0.598317 -1.500000       2             0          2   \n",
      "\n",
      "      residence_type  smoking_status  hypertension  heart_disease  \n",
      "42                 0               3             0              1  \n",
      "380                1               1             0              0  \n",
      "3524               0               0             0              0  \n",
      "352                1               0             0              0  \n",
      "4927               1               1             0              0  \n",
      "42      1\n",
      "380     0\n",
      "3524    0\n",
      "352     0\n",
      "4927    0\n",
      "Name: stroke, dtype: int64\n",
      "\n",
      "---------------------------------\n",
      "Confusion matrix :\n",
      "[[967   1]\n",
      " [ 54   0]]\n",
      "\n",
      "---------------------------------\n",
      "Classification report :\n",
      "              precision    recall  f1-score   support\n",
      "\n",
      "           0       0.95      1.00      0.97       968\n",
      "           1       0.00      0.00      0.00        54\n",
      "\n",
      "    accuracy                           0.95      1022\n",
      "   macro avg       0.47      0.50      0.49      1022\n",
      "weighted avg       0.90      0.95      0.92      1022\n",
      "\n"
     ]
    },
    {
     "data": {
      "image/png": "[encoded data removed]",
      "text/plain": [
       "<Figure size 1080x576 with 1 Axes>"
      ]
     },
     "metadata": {
      "needs_background": "light"
     },
     "output_type": "display_data"
    },
    {
     "name": "stdout",
     "output_type": "stream",
     "text": [
      "\n",
      " {'selectkbest__k': 5}\n"
     ]
    }
   ],
   "source": [
    "best_classifier(X_train, y_train, X_test, y_test, 'mean')"
   ]
  },
  {
   "cell_type": "markdown",
   "id": "baa37437-05e0-4653-a01c-164294eac2fa",
   "metadata": {
    "id": "baa37437-05e0-4653-a01c-164294eac2fa"
   },
   "source": [
    "__Au vu des paramètres de précision, recall et f1-score, le modèle le plus adapté est le DecisionTreeClassifier__\n",
    "\n",
    "Plusieurs itérations ont été effectués pour déterminer la meilleur stratégie pour le remplacement de NaN :\n",
    "* Itération initiale\n",
    "    * Imputer strategy : mean\n",
    "    * Training score : environ 100% => Modèle en overfitting\n",
    "    * Validation score : environ 15%    \n",
    "* Nouvelle itération\n",
    "    * Imputer strategy : median\n",
    "    * Training score : environ 100% => Modèle en overfitting\n",
    "    * Validation score : environ 8%\n",
    "* Nouvelle itération\n",
    "    * Imputer strategy : most_frequent\n",
    "    * Training score : environ 100% => Modèle en overfitting\n",
    "    * Validation score : environ 14%\n",
    "\n",
    "* __Choix final__\n",
    "    * Modèle de classification : DecisionTreeClassifier\n",
    "    * Simple imputer strategy : mean\n",
    "    * SelectKBest : k = 10"
   ]
  },
  {
   "cell_type": "markdown",
   "id": "15ab8380-f587-4ec9-94ae-871edc83ff37",
   "metadata": {
    "id": "15ab8380-f587-4ec9-94ae-871edc83ff37",
    "tags": []
   },
   "source": [
    "### 4.1.3 Evaluation du modèle sélectionné avec les meilleurs paramètres"
   ]
  },
  {
   "cell_type": "code",
   "execution_count": null,
   "id": "609971f6-3686-4fda-9711-b1228218b9cc",
   "metadata": {
    "colab": {
     "base_uri": "https://localhost:8080/",
     "height": 778
    },
    "id": "609971f6-3686-4fda-9711-b1228218b9cc",
    "outputId": "1ae4b535-adf6-4e1b-fa15-41716d0741c9"
   },
   "outputs": [],
   "source": [
    "model = make_pipeline(SimpleImputer(missing_values=np.nan, strategy='mean'),\n",
    "                      SelectKBest(f_classif, k=10),\n",
    "                      DecisionTreeClassifier(random_state=0))\n",
    "\n",
    "evaluation(model, X_train, y_train, X_test, y_test)"
   ]
  },
  {
   "cell_type": "markdown",
   "id": "c1634741-7cc9-4d8f-a0de-6e3d4fb636c5",
   "metadata": {
    "id": "c1634741-7cc9-4d8f-a0de-6e3d4fb636c5"
   },
   "source": [
    "__Conlusions__ :\n",
    "\n",
    "Pour les prédictions sur les risques d'attaque cardiaque :\n",
    "  * __F1 score__ : 15%\n",
    "  * __Recall__ : 15%\n",
    "    \n",
    "Score assez faible qui s'explique en parti avec une target déséquilibrée.<br>\n",
    "Une nouvelle évaluation pourrait être réalisée avec un rééquibrage de la target"
   ]
  },
  {
   "cell_type": "markdown",
   "id": "2962b25b-6f31-432e-ac7e-52a352a0d854",
   "metadata": {
    "id": "2962b25b-6f31-432e-ac7e-52a352a0d854",
    "tags": []
   },
   "source": [
    "### 4.1.4 Visualisation des features les plus importantes"
   ]
  },
  {
   "cell_type": "code",
   "execution_count": null,
   "id": "3a619604-1308-46e2-a73f-2275eda53184",
   "metadata": {
    "id": "3a619604-1308-46e2-a73f-2275eda53184"
   },
   "outputs": [],
   "source": [
    "def most_important_features(features):\n",
    "    features = model.steps[1][1].get_feature_names_out(all_features)\n",
    "    features_importances = model.steps[2][1].feature_importances_\n",
    "    print(pd.DataFrame(features_importances, index=features))\n",
    "    print(\"\\n\")\n",
    "    pd.DataFrame(features_importances, index=features).plot.bar(figsize=(20, 8))"
   ]
  },
  {
   "cell_type": "code",
   "execution_count": null,
   "id": "b66649b0-7d70-4cb3-92b5-9566d4978257",
   "metadata": {
    "colab": {
     "base_uri": "https://localhost:8080/",
     "height": 790
    },
    "id": "b66649b0-7d70-4cb3-92b5-9566d4978257",
    "outputId": "1d587066-fcc6-4418-e000-49888bf44b3c"
   },
   "outputs": [],
   "source": [
    "most_important_features(all_features)"
   ]
  },
  {
   "cell_type": "markdown",
   "id": "553e67cb-844a-417e-8487-69ee2261906a",
   "metadata": {
    "id": "553e67cb-844a-417e-8487-69ee2261906a"
   },
   "source": [
    "__Features les plus importantes (dans l'ordre)__ :\n",
    "* Taux de glucose moyen\n",
    "* IMC\n",
    "* âge"
   ]
  },
  {
   "cell_type": "markdown",
   "id": "39435b48-0763-4da4-8bbd-50908102701f",
   "metadata": {
    "id": "39435b48-0763-4da4-8bbd-50908102701f",
    "tags": []
   },
   "source": [
    "### 4.1.5 Visualisation de l'arbre"
   ]
  },
  {
   "cell_type": "code",
   "execution_count": null,
   "id": "34bb3f55-6793-42cd-89ca-0798c6861929",
   "metadata": {
    "colab": {
     "base_uri": "https://localhost:8080/",
     "height": 683
    },
    "id": "34bb3f55-6793-42cd-89ca-0798c6861929",
    "outputId": "b67e43f8-0320-42d3-e16b-f502d32fe12d"
   },
   "outputs": [],
   "source": [
    "plt.figure(figsize=(15,12))\n",
    "plot_tree(model.steps[2][1], feature_names = all_features, filled=True);"
   ]
  },
  {
   "cell_type": "markdown",
   "id": "T-VUN-GpGp3k",
   "metadata": {
    "id": "T-VUN-GpGp3k"
   },
   "source": [
    "Le modèle n'est pas du tout interprétable, il y a trop de branches."
   ]
  },
  {
   "cell_type": "markdown",
   "id": "7408ce9b-2a4f-4272-a5b8-4dc96c5ad8f3",
   "metadata": {
    "id": "7408ce9b-2a4f-4272-a5b8-4dc96c5ad8f3"
   },
   "source": [
    "## 4.2 Evaluation avec rééquilibrage de la target"
   ]
  },
  {
   "cell_type": "code",
   "execution_count": null,
   "id": "451a0583-0c8d-4f6a-963a-84baa0115017",
   "metadata": {
    "id": "451a0583-0c8d-4f6a-963a-84baa0115017"
   },
   "outputs": [],
   "source": [
    "# Pré-processing avec rééquilibrage de la target\n",
    "X_train, X_test, y_train, y_test = preprocessing(quantitative_features, qualitative_features, target, sampling=True)"
   ]
  },
  {
   "cell_type": "code",
   "execution_count": null,
   "id": "b5d0f1fb-2459-4ce2-9fea-3b41f189fba6",
   "metadata": {
    "colab": {
     "base_uri": "https://localhost:8080/"
    },
    "id": "b5d0f1fb-2459-4ce2-9fea-3b41f189fba6",
    "outputId": "e36f647c-0139-4a67-9263-1dbabd18519f"
   },
   "outputs": [],
   "source": [
    "print(\"\\n--------------\")\n",
    "print(\"X_train :\", X_train.shape, \"/ y_train :\", y_train.shape)\n",
    "\n",
    "print(\"\\n--------------\")\n",
    "print(\"\\nX_test :\", X_test.shape, \"/ y_test :\", y_test.shape)\n",
    "\n",
    "print(\"\\n--------------\")\n",
    "print(\"y_train :\")\n",
    "print(y_train.value_counts())\n",
    "\n",
    "print(\"\\n--------------\")\n",
    "print(\"y_test :\")\n",
    "print(y_test.value_counts())"
   ]
  },
  {
   "cell_type": "code",
   "execution_count": null,
   "id": "07061cb8-bacb-419d-b104-95f85f4788a0",
   "metadata": {
    "colab": {
     "base_uri": "https://localhost:8080/",
     "height": 1000
    },
    "id": "07061cb8-bacb-419d-b104-95f85f4788a0",
    "outputId": "5dd6be18-a9ee-4965-9384-b6252c503473"
   },
   "outputs": [],
   "source": [
    "# Choix du modèle de classification\n",
    "best_classifier(X_train, y_train, X_test, y_test, 'mean')"
   ]
  },
  {
   "cell_type": "markdown",
   "id": "f267a729-44c7-4820-b445-ac2622f118e7",
   "metadata": {
    "id": "f267a729-44c7-4820-b445-ac2622f118e7"
   },
   "source": [
    "__Au vu des paramètres de précision, recall et f1-score, il est difficile de séléectionner un modèle :__\n",
    "* D'un point de vue des personnes saines, le Decision Tree est le modèle le plus adaptée\n",
    "* D'un point de vue des personnes malades, la Régression Logistic est le modèle le plus adaptée\n",
    "\n",
    "La stratégie du rééquilibrage de la target n'a pas forcément apporté une meilleure évaluation.\n",
    "\n"
   ]
  },
  {
   "cell_type": "code",
   "execution_count": null,
   "id": "ad6ede61-2b89-4522-be4b-1ce5dd77aad4",
   "metadata": {
    "colab": {
     "base_uri": "https://localhost:8080/",
     "height": 778
    },
    "id": "ad6ede61-2b89-4522-be4b-1ce5dd77aad4",
    "outputId": "2faebf0c-0dc2-480e-e42d-85907a8cff83"
   },
   "outputs": [],
   "source": [
    "# Evaluation finale avec Decision Tree\n",
    "model = make_pipeline(SimpleImputer(missing_values=np.nan, strategy='mean'),\n",
    "                      SelectKBest(f_classif, k=8),\n",
    "                      DecisionTreeClassifier(random_state=0))\n",
    "\n",
    "evaluation(model, X_train, y_train, X_test, y_test)"
   ]
  },
  {
   "cell_type": "code",
   "execution_count": null,
   "id": "4c698ecc-33b8-4bf9-9f42-f07d71a5a921",
   "metadata": {
    "colab": {
     "base_uri": "https://localhost:8080/",
     "height": 755
    },
    "id": "4c698ecc-33b8-4bf9-9f42-f07d71a5a921",
    "outputId": "e8e381f5-b027-4140-cb1a-ded4c08b0322"
   },
   "outputs": [],
   "source": [
    "most_important_features(all_features)\n",
    "\n",
    "# Dans l'ordre d'importance : Age, Taux de glucose moyen et IMC"
   ]
  },
  {
   "cell_type": "markdown",
   "id": "740e96b4-874f-4211-8e03-85e8f244a929",
   "metadata": {
    "id": "740e96b4-874f-4211-8e03-85e8f244a929"
   },
   "source": [
    "__Features les plus importantes (dans l'ordre)__ :\n",
    "* Age\n",
    "* Taux de glucose moyen\n",
    "* IMC"
   ]
  },
  {
   "cell_type": "code",
   "execution_count": null,
   "id": "83c90c08-872c-471c-b8ee-8eb094736a6c",
   "metadata": {
    "colab": {
     "base_uri": "https://localhost:8080/",
     "height": 683
    },
    "id": "83c90c08-872c-471c-b8ee-8eb094736a6c",
    "outputId": "f5f1e750-985e-43fe-9a53-1e7b46bbe99e"
   },
   "outputs": [],
   "source": [
    "plt.figure(figsize=(15,12))\n",
    "plot_tree(model.steps[2][1], feature_names = all_features, filled=True);"
   ]
  },
  {
   "cell_type": "code",
   "execution_count": null,
   "id": "fe03247c-6a5a-4afd-8569-949b85424db8",
   "metadata": {
    "id": "fe03247c-6a5a-4afd-8569-949b85424db8"
   },
   "outputs": [],
   "source": []
  }
 ],
 "metadata": {
  "colab": {
   "collapsed_sections": [
    "113f4265-5cc4-46b2-a226-855cf52ecf1c",
    "e69c48ca-1dee-40f8-9915-6afcfee228a8",
    "0f6305aa-6f92-4701-9625-4673a958d673",
    "ab8fdabd-924e-439c-92d3-ea0d4da414a1",
    "beca6535-b963-4a4f-839d-1ec13cfa0225",
    "940eaa36-fae4-4714-8b62-cafc0785911c",
    "71ff5e21-a293-4971-9523-aa93096f7e16",
    "f39b0945-5e05-48c7-9c27-af453de327b4",
    "72e3254a-1dac-46db-99e1-58f71baadb97",
    "_0c4TDHBIE9u",
    "7d2e4ba3-df63-4410-8b13-0073aa94c1c0",
    "15ab8380-f587-4ec9-94ae-871edc83ff37",
    "2962b25b-6f31-432e-ac7e-52a352a0d854",
    "39435b48-0763-4da4-8bbd-50908102701f",
    "7408ce9b-2a4f-4272-a5b8-4dc96c5ad8f3"
   ],
   "name": "strokes.ipynb",
   "provenance": []
  },
  "kernelspec": {
   "display_name": "Python 3 (ipykernel)",
   "language": "python",
   "name": "python3"
  },
  "language_info": {
   "codemirror_mode": {
    "name": "ipython",
    "version": 3
   },
   "file_extension": ".py",
   "mimetype": "text/x-python",
   "name": "python",
   "nbconvert_exporter": "python",
   "pygments_lexer": "ipython3",
   "version": "3.9.10"
  }
 },
 "nbformat": 4,
 "nbformat_minor": 5
}
